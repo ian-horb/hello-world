{
 "cells": [
  {
   "cell_type": "markdown",
   "metadata": {},
   "source": [
    "# String Formatting Tips (%s)"
   ]
  },
  {
   "cell_type": "markdown",
   "metadata": {},
   "source": [
    "String Formatting defaults to right justified if none is specified:"
   ]
  },
  {
   "cell_type": "code",
   "execution_count": 24,
   "metadata": {},
   "outputs": [
    {
     "data": {
      "text/plain": [
       "'      test'"
      ]
     },
     "execution_count": 24,
     "metadata": {},
     "output_type": "execute_result"
    }
   ],
   "source": [
    "'%10s' % 'test'"
   ]
  },
  {
   "cell_type": "markdown",
   "metadata": {},
   "source": [
    "Or if you have multiple items, it looks like this:"
   ]
  },
  {
   "cell_type": "code",
   "execution_count": 17,
   "metadata": {},
   "outputs": [
    {
     "data": {
      "text/plain": [
       "'     test1      test2'"
      ]
     },
     "execution_count": 17,
     "metadata": {},
     "output_type": "execute_result"
    }
   ],
   "source": [
    "'%10s %10s' % ('test1', 'test2')"
   ]
  },
  {
   "cell_type": "markdown",
   "metadata": {},
   "source": [
    "You can left justify by including a minus (-) sign in front of the field width number:"
   ]
  },
  {
   "cell_type": "code",
   "execution_count": 18,
   "metadata": {},
   "outputs": [
    {
     "data": {
      "text/plain": [
       "'test      '"
      ]
     },
     "execution_count": 18,
     "metadata": {},
     "output_type": "execute_result"
    }
   ],
   "source": [
    "'%-10s' % 'test'"
   ]
  },
  {
   "cell_type": "markdown",
   "metadata": {},
   "source": [
    "Or if you have multiple items, it looks like this:"
   ]
  },
  {
   "cell_type": "code",
   "execution_count": 19,
   "metadata": {},
   "outputs": [
    {
     "data": {
      "text/plain": [
       "'test1      test2     '"
      ]
     },
     "execution_count": 19,
     "metadata": {},
     "output_type": "execute_result"
    }
   ],
   "source": [
    "'%-10s %-10s' % ('test1', 'test2')"
   ]
  },
  {
   "cell_type": "markdown",
   "metadata": {},
   "source": [
    "You can even mix and match (first is left justified, and second is right justified):"
   ]
  },
  {
   "cell_type": "code",
   "execution_count": 20,
   "metadata": {},
   "outputs": [
    {
     "data": {
      "text/plain": [
       "'test1           test2'"
      ]
     },
     "execution_count": 20,
     "metadata": {},
     "output_type": "execute_result"
    }
   ],
   "source": [
    "'%-10s %10s' % ('test1', 'test2')"
   ]
  },
  {
   "cell_type": "markdown",
   "metadata": {},
   "source": [
    "Or do the opposite:"
   ]
  },
  {
   "cell_type": "code",
   "execution_count": 21,
   "metadata": {},
   "outputs": [
    {
     "data": {
      "text/plain": [
       "'     test1 test2     '"
      ]
     },
     "execution_count": 21,
     "metadata": {},
     "output_type": "execute_result"
    }
   ],
   "source": [
    "'%10s %-10s' % ('test1', 'test2')"
   ]
  },
  {
   "cell_type": "markdown",
   "metadata": {},
   "source": [
    "For the previous line note that there is a space between test1 and test2 because we have a space between %10s and %-10s"
   ]
  },
  {
   "cell_type": "markdown",
   "metadata": {},
   "source": [
    "# Using .ljust(), .rjust(), and .center()\n",
    "### The number inside the parenthesis tells Python what the field width is"
   ]
  },
  {
   "cell_type": "markdown",
   "metadata": {},
   "source": [
    "Let's store the name John and his birthday into some variables:"
   ]
  },
  {
   "cell_type": "code",
   "execution_count": 22,
   "metadata": {},
   "outputs": [],
   "source": [
    "name = 'John'\n",
    "bd = '01/01/2001'"
   ]
  },
  {
   "cell_type": "markdown",
   "metadata": {},
   "source": [
    "Now let's print both of these with right justification and a field width of 15 characters each:"
   ]
  },
  {
   "cell_type": "code",
   "execution_count": 26,
   "metadata": {},
   "outputs": [
    {
     "name": "stdout",
     "output_type": "stream",
     "text": [
      "           John      01/01/2001\n"
     ]
    }
   ],
   "source": [
    "print('%s %s' % (name.rjust(15), bd.rjust(15)))"
   ]
  },
  {
   "cell_type": "markdown",
   "metadata": {},
   "source": [
    "If we want to \"see\" the spaces, we can replace them with a character:"
   ]
  },
  {
   "cell_type": "code",
   "execution_count": 34,
   "metadata": {},
   "outputs": [
    {
     "name": "stdout",
     "output_type": "stream",
     "text": [
      "####Christopher $$$$$01/01/2001\n"
     ]
    }
   ],
   "source": [
    "print('%s %s' % (name.rjust(15,'#'), bd.rjust(15,'$')))"
   ]
  },
  {
   "cell_type": "markdown",
   "metadata": {},
   "source": [
    "What if the name is longer or shorter than the field width?"
   ]
  },
  {
   "cell_type": "code",
   "execution_count": 35,
   "metadata": {},
   "outputs": [
    {
     "name": "stdout",
     "output_type": "stream",
     "text": [
      "Christopher $$$$$01/01/2001\n"
     ]
    }
   ],
   "source": [
    "name = 'Christopher'\n",
    "print('%s %s' % (name.rjust(8,'#'), bd.rjust(15,'$')))"
   ]
  },
  {
   "cell_type": "markdown",
   "metadata": {},
   "source": [
    "# Combining the two leads to some interesting results:"
   ]
  },
  {
   "cell_type": "markdown",
   "metadata": {},
   "source": [
    "What if we used both the %s format specifier and the r or l.just?\n",
    "Let's go back to a shorter name:"
   ]
  },
  {
   "cell_type": "code",
   "execution_count": 38,
   "metadata": {},
   "outputs": [
    {
     "name": "stdout",
     "output_type": "stream",
     "text": [
      "          ######John $$$$$01/01/2001\n"
     ]
    }
   ],
   "source": [
    "name = 'John'\n",
    "print('%20s %s' % (name.rjust(10,'#'), bd.rjust(15,'$')))"
   ]
  },
  {
   "cell_type": "markdown",
   "metadata": {},
   "source": [
    "In the previous case, we can see that the %20s creates a string 20 characters wide, and the right justify takes 10 of those characters and right-justifies the text (name) within that."
   ]
  },
  {
   "cell_type": "markdown",
   "metadata": {},
   "source": [
    "What if we try left justification?"
   ]
  },
  {
   "cell_type": "code",
   "execution_count": 39,
   "metadata": {},
   "outputs": [
    {
     "name": "stdout",
     "output_type": "stream",
     "text": [
      "          John###### 01/01/2001$$$$$\n"
     ]
    }
   ],
   "source": [
    "print('%20s %s' % (name.ljust(10,'#'), bd.ljust(15,'$')))"
   ]
  },
  {
   "cell_type": "markdown",
   "metadata": {},
   "source": [
    "##### So as you can see, it is generally best practice to stick with ONE of the formatting techniques so as not to cause unusual or unexpected outputs."
   ]
  },
  {
   "cell_type": "markdown",
   "metadata": {},
   "source": [
    "# Formatting Names and Birthdays:"
   ]
  },
  {
   "cell_type": "markdown",
   "metadata": {},
   "source": [
    "So now let's try inputting names and birthdays and trying to make our columns fit:"
   ]
  },
  {
   "cell_type": "code",
   "execution_count": 42,
   "metadata": {},
   "outputs": [
    {
     "name": "stdout",
     "output_type": "stream",
     "text": [
      "What is name 1?: John\n",
      "What is name 2?: Christopher\n",
      "What is name 3?: Jessica\n",
      "What is your birthday 1? (mm/dd/yyyy): 01/01/2001\n",
      "What is your birthday 2? (mm/dd/yyyy): 02/02/2002\n",
      "What is your birthday 3? (mm/dd/yyyy): 05/05/2005\n"
     ]
    }
   ],
   "source": [
    "name1 = input('What is name 1?: ')\n",
    "name2 = input('What is name 2?: ')\n",
    "name3 = input('What is name 3?: ')\n",
    "bd1 = input('What is your birthday 1? (mm/dd/yyyy): ')\n",
    "bd2 = input('What is your birthday 2? (mm/dd/yyyy): ')\n",
    "bd3 = input('What is your birthday 3? (mm/dd/yyyy): ')"
   ]
  },
  {
   "cell_type": "code",
   "execution_count": 43,
   "metadata": {},
   "outputs": [
    {
     "name": "stdout",
     "output_type": "stream",
     "text": [
      "           John      01/01/2001\n",
      "    Christopher      02/02/2002\n",
      "        Jessica      05/05/2005\n"
     ]
    }
   ],
   "source": [
    "print('%15s %15s' % (name1, bd1))\n",
    "print('%15s %15s' % (name2, bd2))\n",
    "print('%15s %15s' % (name3, bd3))"
   ]
  },
  {
   "cell_type": "markdown",
   "metadata": {},
   "source": [
    "Note how these are right justified by default.  We can change the name column to left justified by adding a minus (-) sign:"
   ]
  },
  {
   "cell_type": "code",
   "execution_count": 44,
   "metadata": {},
   "outputs": [
    {
     "name": "stdout",
     "output_type": "stream",
     "text": [
      "John                 01/01/2001\n",
      "Christopher          02/02/2002\n",
      "Jessica              05/05/2005\n"
     ]
    }
   ],
   "source": [
    "print('%-15s %15s' % (name1, bd1))\n",
    "print('%-15s %15s' % (name2, bd2))\n",
    "print('%-15s %15s' % (name3, bd3))"
   ]
  },
  {
   "cell_type": "markdown",
   "metadata": {},
   "source": [
    "In the previous output, the left column is left justified in a field of 15 characters wide, and the right column is right justified in a field of 15 characters wide.  We can try left-justifying both columns now:"
   ]
  },
  {
   "cell_type": "code",
   "execution_count": 45,
   "metadata": {},
   "outputs": [
    {
     "name": "stdout",
     "output_type": "stream",
     "text": [
      "John            01/01/2001     \n",
      "Christopher     02/02/2002     \n",
      "Jessica         05/05/2005     \n"
     ]
    }
   ],
   "source": [
    "print('%-15s %-15s' % (name1, bd1))\n",
    "print('%-15s %-15s' % (name2, bd2))\n",
    "print('%-15s %-15s' % (name3, bd3))"
   ]
  },
  {
   "cell_type": "code",
   "execution_count": null,
   "metadata": {},
   "outputs": [],
   "source": []
  }
 ],
 "metadata": {
  "kernelspec": {
   "display_name": "Python 3",
   "language": "python",
   "name": "python3"
  },
  "language_info": {
   "codemirror_mode": {
    "name": "ipython",
    "version": 3
   },
   "file_extension": ".py",
   "mimetype": "text/x-python",
   "name": "python",
   "nbconvert_exporter": "python",
   "pygments_lexer": "ipython3",
   "version": "3.6.5"
  }
 },
 "nbformat": 4,
 "nbformat_minor": 2
}
